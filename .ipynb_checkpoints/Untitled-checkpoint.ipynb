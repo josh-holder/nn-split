{
 "cells": [
  {
   "cell_type": "code",
   "execution_count": 23,
   "metadata": {},
   "outputs": [
    {
     "data": {
      "text/html": [
       "<div>\n",
       "<style scoped>\n",
       "    .dataframe tbody tr th:only-of-type {\n",
       "        vertical-align: middle;\n",
       "    }\n",
       "\n",
       "    .dataframe tbody tr th {\n",
       "        vertical-align: top;\n",
       "    }\n",
       "\n",
       "    .dataframe thead tr th {\n",
       "        text-align: left;\n",
       "    }\n",
       "</style>\n",
       "<table border=\"1\" class=\"dataframe\">\n",
       "  <thead>\n",
       "    <tr>\n",
       "      <th></th>\n",
       "      <th colspan=\"2\" halign=\"left\">game1</th>\n",
       "      <th colspan=\"2\" halign=\"left\">game2</th>\n",
       "    </tr>\n",
       "    <tr>\n",
       "      <th></th>\n",
       "      <th>nn_time</th>\n",
       "      <th>splt_time</th>\n",
       "      <th>nn_time</th>\n",
       "      <th>splt_time</th>\n",
       "    </tr>\n",
       "  </thead>\n",
       "  <tbody>\n",
       "    <tr>\n",
       "      <th>0</th>\n",
       "      <td>0.5</td>\n",
       "      <td>1.0</td>\n",
       "      <td>0.5</td>\n",
       "      <td>2.0</td>\n",
       "    </tr>\n",
       "    <tr>\n",
       "      <th>1</th>\n",
       "      <td>0.5</td>\n",
       "      <td>1.0</td>\n",
       "      <td>1.0</td>\n",
       "      <td>1.0</td>\n",
       "    </tr>\n",
       "    <tr>\n",
       "      <th>2</th>\n",
       "      <td>0.5</td>\n",
       "      <td>0.5</td>\n",
       "      <td>NaN</td>\n",
       "      <td>NaN</td>\n",
       "    </tr>\n",
       "  </tbody>\n",
       "</table>\n",
       "</div>"
      ],
      "text/plain": [
       "    game1             game2          \n",
       "  nn_time splt_time nn_time splt_time\n",
       "0     0.5       1.0     0.5       2.0\n",
       "1     0.5       1.0     1.0       1.0\n",
       "2     0.5       0.5     NaN       NaN"
      ]
     },
     "execution_count": 23,
     "metadata": {},
     "output_type": "execute_result"
    }
   ],
   "source": [
    "import pandas as pd\n",
    "splits = range(2,5)\n",
    "d1 = {'nn_time':[.5,.5,.5],'splt_time':[1,1,.5]}\n",
    "d1 = pd.DataFrame(data=d1)\n",
    "d2 = {'nn_time':[.5,1],'splt_time':[2,1]}\n",
    "d2 = pd.DataFrame(data=d2)\n",
    "g1 = 'game1'\n",
    "df_dict = {g1:d1,'game2':d2}\n",
    "fdf = pd.concat(df_dict,axis=1)\n",
    "fdf"
   ]
  },
  {
   "cell_type": "code",
   "execution_count": 20,
   "metadata": {},
   "outputs": [
    {
     "data": {
      "text/plain": [
       "0    0.5\n",
       "1    0.5\n",
       "2    0.5\n",
       "Name: nn_time, dtype: float64"
      ]
     },
     "execution_count": 20,
     "metadata": {},
     "output_type": "execute_result"
    }
   ],
   "source": [
    "fdf['game1']['nn_time']"
   ]
  },
  {
   "cell_type": "code",
   "execution_count": 1,
   "metadata": {},
   "outputs": [],
   "source": [
    "import pickle\n",
    "with open('run/core0_timedata_df.pkl','rb') as f:\n",
    "    data = pickle.load(f)"
   ]
  },
  {
   "cell_type": "code",
   "execution_count": 2,
   "metadata": {},
   "outputs": [
    {
     "data": {
      "text/html": [
       "<div>\n",
       "<style scoped>\n",
       "    .dataframe tbody tr th:only-of-type {\n",
       "        vertical-align: middle;\n",
       "    }\n",
       "\n",
       "    .dataframe tbody tr th {\n",
       "        vertical-align: top;\n",
       "    }\n",
       "\n",
       "    .dataframe thead tr th {\n",
       "        text-align: left;\n",
       "    }\n",
       "</style>\n",
       "<table border=\"1\" class=\"dataframe\">\n",
       "  <thead>\n",
       "    <tr>\n",
       "      <th></th>\n",
       "      <th colspan=\"3\" halign=\"left\">0</th>\n",
       "      <th colspan=\"3\" halign=\"left\">1</th>\n",
       "    </tr>\n",
       "    <tr>\n",
       "      <th></th>\n",
       "      <th>nn_time</th>\n",
       "      <th>splt_time</th>\n",
       "      <th>total_time</th>\n",
       "      <th>nn_time</th>\n",
       "      <th>splt_time</th>\n",
       "      <th>total_time</th>\n",
       "    </tr>\n",
       "  </thead>\n",
       "  <tbody>\n",
       "    <tr>\n",
       "      <th>0</th>\n",
       "      <td>2.661600</td>\n",
       "      <td>0.925228</td>\n",
       "      <td>3.654996</td>\n",
       "      <td>2.343057</td>\n",
       "      <td>0.911836</td>\n",
       "      <td>3.323704</td>\n",
       "    </tr>\n",
       "    <tr>\n",
       "      <th>1</th>\n",
       "      <td>2.489342</td>\n",
       "      <td>1.123107</td>\n",
       "      <td>3.686990</td>\n",
       "      <td>2.437459</td>\n",
       "      <td>1.012414</td>\n",
       "      <td>3.522388</td>\n",
       "    </tr>\n",
       "    <tr>\n",
       "      <th>2</th>\n",
       "      <td>2.386707</td>\n",
       "      <td>1.553742</td>\n",
       "      <td>4.041396</td>\n",
       "      <td>2.406495</td>\n",
       "      <td>1.204895</td>\n",
       "      <td>3.691343</td>\n",
       "    </tr>\n",
       "    <tr>\n",
       "      <th>3</th>\n",
       "      <td>2.384886</td>\n",
       "      <td>1.412310</td>\n",
       "      <td>3.885861</td>\n",
       "      <td>2.480726</td>\n",
       "      <td>1.466453</td>\n",
       "      <td>4.071134</td>\n",
       "    </tr>\n",
       "    <tr>\n",
       "      <th>4</th>\n",
       "      <td>2.337364</td>\n",
       "      <td>1.172328</td>\n",
       "      <td>3.586086</td>\n",
       "      <td>2.355371</td>\n",
       "      <td>1.084248</td>\n",
       "      <td>3.513781</td>\n",
       "    </tr>\n",
       "    <tr>\n",
       "      <th>5</th>\n",
       "      <td>2.555046</td>\n",
       "      <td>1.322664</td>\n",
       "      <td>3.957729</td>\n",
       "      <td>2.469864</td>\n",
       "      <td>1.390916</td>\n",
       "      <td>3.943061</td>\n",
       "    </tr>\n",
       "  </tbody>\n",
       "</table>\n",
       "</div>"
      ],
      "text/plain": [
       "          0                              1                     \n",
       "    nn_time splt_time total_time   nn_time splt_time total_time\n",
       "0  2.661600  0.925228   3.654996  2.343057  0.911836   3.323704\n",
       "1  2.489342  1.123107   3.686990  2.437459  1.012414   3.522388\n",
       "2  2.386707  1.553742   4.041396  2.406495  1.204895   3.691343\n",
       "3  2.384886  1.412310   3.885861  2.480726  1.466453   4.071134\n",
       "4  2.337364  1.172328   3.586086  2.355371  1.084248   3.513781\n",
       "5  2.555046  1.322664   3.957729  2.469864  1.390916   3.943061"
      ]
     },
     "execution_count": 2,
     "metadata": {},
     "output_type": "execute_result"
    }
   ],
   "source": [
    "data"
   ]
  },
  {
   "cell_type": "code",
   "execution_count": null,
   "metadata": {},
   "outputs": [],
   "source": []
  }
 ],
 "metadata": {
  "kernelspec": {
   "display_name": "Python 3",
   "language": "python",
   "name": "python3"
  },
  "language_info": {
   "codemirror_mode": {
    "name": "ipython",
    "version": 3
   },
   "file_extension": ".py",
   "mimetype": "text/x-python",
   "name": "python",
   "nbconvert_exporter": "python",
   "pygments_lexer": "ipython3",
   "version": "3.7.2"
  }
 },
 "nbformat": 4,
 "nbformat_minor": 4
}
